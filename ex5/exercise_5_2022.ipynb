{
 "cells": [
  {
   "cell_type": "markdown",
   "metadata": {},
   "source": [
    "# Probabilistic Models – Spring 2022\n",
    "## Exercise Session 5\n",
    "Mar 1st return by 12.00. Session at 14.15.\n",
    "\n",
    "<span style=\"color:red\">**TYPE YOUR NAME HERE**</span>\n",
    "\n",
    "### Instructions\n",
    "Make sure the notebook produces correct results when ran sequentially starting from the first cell. You can ensure this by clearing all outputs, running all cells, and finally correcting any errors.\n",
    "\n",
    "To get points:\n",
    "1. Submit your answers to the automatically checked Moodle test. \n",
    " - You have 5 tries on the test: the highest obtained score will be taken into account.\n",
    " - For numerical questions the tolerance is $1\\cdot10^{-4}$.\n",
    "2. Submit this notebook containing your derivations to Moodle.\n",
    "\n",
    "These exercises are designed such that you should be able to exercises 1-3 based on the structure learning lecture on Tuesday Feb 22nd and 4-6 based on the structure search lecture on Thursday Feb 24th.\n",
    "\n",
    "Use the format specified in the week 2 exercises for returning the structure in Exercises 1 and 3.\n",
    "\n",
    "Finally note that you do not have to fully implement the algorithms, you may implement parts and run the single instance as if you would run the algorithm on pen and paper. However, you do not get points if you get the correct result but by running a different algorithm."
   ]
  },
  {
   "cell_type": "markdown",
   "metadata": {},
   "source": [
    "## Exercise 1\n",
    "***\n",
    "\n",
    "Medical diagnosis. Let's have the following notation:\n",
    "\n",
    "| Notation | A person has                        |\n",
    "|----------|-------------------------------------|\n",
    "| $A=1$    | brain cancer                        |\n",
    "| $B=1$    | high blood calcium level            |\n",
    "| $C=1$    | brain tumor                         |\n",
    "| $D=1$    | seizures that cause unconsciousness |\n",
    "| $E=1$    | person has severe headaches         |\n",
    "\n",
    "An expert has told us the following information about the relationships between variables:\n",
    "\n",
    "> (1) Probability of severe headaches $P(E = 1)$ depends only on the fact whether a person has a brain tumor ($C$) or not. (2) On the other hand, if one knows the blood calcium level ($B$) and whether the person has a tumor or not ($C$), one can specify the probability of unconsciousness seizures ($D$). (3) In this case, the probability of $D$ doesn't depend on the presence of the headaches ($E$) or (directly) on the fact whether the person has brain cancer or not  ($A$). (4) The probability of a brain tumor ($C$) depends directly only on the fact, whether the person has brain cancer or not ($A$).\n",
    "\n",
    "Construct a DAG that represents the conditional independencies specified by the expert. (Hint: start with a full DAG with causal order A,B,C,D,E, and remove unnecessary edges.)"
   ]
  },
  {
   "cell_type": "code",
   "execution_count": null,
   "metadata": {},
   "outputs": [],
   "source": [
    "# Provide your answer in cells here"
   ]
  },
  {
   "cell_type": "markdown",
   "metadata": {},
   "source": [
    "## Exercise 2\n",
    "***\n",
    "\n",
    "Consider two binary variables $X$ and $Y$. Prove that the structures $X\\rightarrow Y$ and $Y\\rightarrow X$ have always the same BDeu score (regardless of data and hyperparameters). "
   ]
  },
  {
   "cell_type": "code",
   "execution_count": null,
   "metadata": {},
   "outputs": [],
   "source": [
    "# Provide your answer in cells here"
   ]
  },
  {
   "cell_type": "markdown",
   "metadata": {},
   "source": [
    "## Exercise 3\n",
    "***\n",
    "\n",
    "A run of the PC-algorithm (i.e., IC-algorithm with a particular way of selecting the tests) does the following independence tests on a data set with 5 variables:\n",
    "\n",
    "```\n",
    "Conditioning set size=0;\n",
    "x= 1  y= 2  S=  : pval = 0.3551245 \n",
    "x= 1  y= 3  S=  : pval = 0 \n",
    "x= 1  y= 4  S=  : pval = 0.2132192 \n",
    "x= 1  y= 5  S=  : pval = 0.5073849 \n",
    "x= 2  y= 3  S=  : pval = 7.690449e-49 \n",
    "x= 2  y= 4  S=  : pval = 2.855907e-79 \n",
    "x= 2  y= 5  S=  : pval = 0.565885 \n",
    "x= 3  y= 1  S=  : pval = 0 \n",
    "x= 3  y= 2  S=  : pval = 7.690449e-49 \n",
    "x= 3  y= 4  S=  : pval = 0.09429652 \n",
    "x= 3  y= 5  S=  : pval = 0.1341955 \n",
    "x= 4  y= 2  S=  : pval = 2.855907e-79 \n",
    "x= 4  y= 5  S=  : pval = 6.976787e-232 \n",
    "x= 5  y= 4  S=  : pval = 6.976787e-232 \n",
    "Conditioning set size=1;\n",
    "x= 2  y= 3  S= 4 : pval = 1.250955e-42 \n",
    "x= 2  y= 4  S= 3 : pval = 9.714191e-73 \n",
    "x= 3  y= 1  S= 2 : pval = 0 \n",
    "x= 3  y= 2  S= 1 : pval = 1.442632e-51 \n",
    "x= 4  y= 2  S= 5 : pval = 5.618453e-124 \n",
    "x= 4  y= 5  S= 2 : pval = 3.864918e-276\n",
    "```\n",
    "\n",
    "Here x and y denote the nodes and S is the conditioning set. The p-value threshold used is 0.01, so any tests where pval is less than 0.01 are considered to imply dependence, while p-values more than 0.01 are considered to imply independence. Which equivalence class of DAGs does the algorithm return? There may be several different solutions possible.\n",
    "\n",
    "If the equivalence class allows some edge to be directed in either direction, encode it as 1 in both directions in the vector to be returned to Moodle."
   ]
  },
  {
   "cell_type": "code",
   "execution_count": 55,
   "metadata": {},
   "outputs": [],
   "source": [
    "# Provide your answer in cells here"
   ]
  },
  {
   "cell_type": "markdown",
   "metadata": {},
   "source": [
    "## Exercise 4\n",
    "***\n",
    "\n",
    "`jkl` is a somewhat standard file format for local scores. The first line in a `jkl`-file states the number of variables/nodes, and the rest of the file is divided into node specific sections. The first line in a section states the variable name and the number of local scores to follow. Each local score is followed by the number of parents for the local score and the parent variables themselves. In the section for variable 0 the line `-193.80 0` thus corresponds to the local score $f(0, \\emptyset)$; the line `-193.42 2 1 2` corresponds to the local score $f(0, \\{ 1, 2\\})$, etc.\n",
    "\n",
    "Consider the following local scores:"
   ]
  },
  {
   "cell_type": "code",
   "execution_count": 56,
   "metadata": {},
   "outputs": [
    {
     "name": "stdout",
     "output_type": "stream",
     "text": [
      "4\r\n",
      "0 8\r\n",
      "-193.80021345773184 0 \r\n",
      "-197.16851527924672 1 1\r\n",
      "-188.8375185956392 1 2\r\n",
      "-189.89041764309678 1 3\r\n",
      "-193.4201332025088 2 1 2\r\n",
      "-213.92449082704218 2 1 3\r\n",
      "-181.94961348240275 2 2 3\r\n",
      "-212.20350455559912 3 1 2 3\r\n",
      "1 8\r\n",
      "-181.3940093476881 0 \r\n",
      "-184.76231116920297 1 0\r\n",
      "-186.30305389009453 1 2\r\n",
      "-161.58080460560382 1 3\r\n",
      "-190.88566849696412 2 0 2\r\n",
      "-185.6148777895492 2 0 3\r\n",
      "-174.47344794910612 2 2 3\r\n",
      "-204.7273390223025 3 0 2 3\r\n",
      "2 8\r\n",
      "-182.99314409357032 0 \r\n",
      "-178.0304492314777 1 0\r\n",
      "-187.90218863597676 1 1\r\n",
      "-151.04672436005933 1 3\r\n",
      "-184.15380655923883 2 0 1\r\n",
      "-143.1059201993653 2 0 3\r\n",
      "-163.93936770356163 2 1 3\r\n",
      "-162.21838143211858 3 0 1 3\r\n",
      "3 8\r\n",
      "-169.22877645649714 0 \r\n",
      "-165.31898064186208 1 0\r\n",
      "-149.41557171441286 1 1\r\n",
      "-137.28235672298615 1 2\r\n",
      "-166.17154726220832 2 0 1\r\n",
      "-130.3944516097497 2 0 2\r\n",
      "-125.45275078199774 2 1 2\r\n",
      "-144.23612213508807 3 0 1 2\r\n"
     ]
    }
   ],
   "source": [
    "!cat data/data_ex5.jkl"
   ]
  },
  {
   "cell_type": "markdown",
   "metadata": {},
   "source": [
    "Use dynamic programming to find (one of) the highest scoring DAG(s) (i.e. maximizing the marginal likelihood or the global BDeu score).\n",
    "\n",
    "Report the obtained score for the DAG."
   ]
  },
  {
   "cell_type": "code",
   "execution_count": 57,
   "metadata": {},
   "outputs": [],
   "source": [
    "# Provide your answer in cells here"
   ]
  },
  {
   "cell_type": "markdown",
   "metadata": {},
   "source": [
    "## Exercise 5\n",
    "***\n",
    "\n",
    "Given the local scores above, find an optimal tree structure using the Chow-Liu algorithm.\n",
    "\n",
    "Report the obtained score for the DAG."
   ]
  },
  {
   "cell_type": "code",
   "execution_count": 58,
   "metadata": {},
   "outputs": [],
   "source": [
    " # Provide your answer in cells here"
   ]
  },
  {
   "cell_type": "markdown",
   "metadata": {},
   "source": [
    "## Exercise 6\n",
    "***\n",
    "\n",
    "For the local scores above, run basic greedy hill climbing starting from the empty network until the score cannot be improved by a local operation (adding, deleting or flipping edges). Do not perform any zero gain operations and make sure not to form directed cycles.\n",
    "\n",
    "Report the obtained score for the DAG."
   ]
  },
  {
   "cell_type": "code",
   "execution_count": 59,
   "metadata": {},
   "outputs": [],
   "source": [
    "# Provide your answer in cells here"
   ]
  },
  {
   "cell_type": "code",
   "execution_count": null,
   "metadata": {},
   "outputs": [],
   "source": []
  }
 ],
 "metadata": {
  "kernelspec": {
   "display_name": "Python 3 (ipykernel)",
   "language": "python",
   "name": "python3"
  },
  "language_info": {
   "codemirror_mode": {
    "name": "ipython",
    "version": 3
   },
   "file_extension": ".py",
   "mimetype": "text/x-python",
   "name": "python",
   "nbconvert_exporter": "python",
   "pygments_lexer": "ipython3",
   "version": "3.9.5"
  }
 },
 "nbformat": 4,
 "nbformat_minor": 4
}
