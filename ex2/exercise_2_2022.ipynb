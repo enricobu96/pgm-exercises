{
 "cells": [
  {
   "cell_type": "markdown",
   "metadata": {},
   "source": [
    "# Probabilistic Models – Spring 2022\n",
    "## Exercise Session 2\n",
    "Return by Feb 8th 12.00 through Moodle. Session on Feb 8th 14.15.\n",
    "\n",
    "<span style=\"color:red\">**TYPE YOUR NAME HERE**</span>\n",
    "\n",
    "### Instructions\n",
    "Make sure the notebook produces correct results when ran sequentially starting from the first cell. You can ensure this by clearing all outputs (`Edit > Clear All Outputs`), running all cells (`Run > Run All Cells`), and finally correcting any errors.\n",
    "\n",
    "To get points:\n",
    "1. Submit your answers to the automatically checked Moodle test. \n",
    " - You have 5 tries on the test: the highest obtained score will be taken into account.\n",
    " - For numerical questions the tolerance varies by question and will be specified in Moodle.\n",
    "2. Submit this notebook containing your derivations to Moodle.\n",
    "\n",
    "Some of the exercises will ask you to return a DAG as an answer. To make it possible to evaluate the answer automatically in Moodle use the following format. Construct the DAG as an adjacency matrix where $A[i, j] = 1$ if there is an edge $j \\rightarrow i$ and 0 otherwise. The nodes should be in alphabetical order, so $A \\rightarrow B$ corresponds to $0 \\rightarrow 1$ (or $1 \\rightarrow 2$ in R's 1-based indexing). Finally, concatenate all the rows starting from the first one and submit the vector as your answer. For example the DAG $A \\rightarrow B \\leftarrow C$ is encoded by the matrix \n",
    "\n",
    "$$\\begin{bmatrix} 0 & 0 & 0 \\\\ 1 & 0 & 1 \\\\ 0 & 0 & 0 \\end{bmatrix}$$\n",
    "\n",
    "and vector $000101000$.\n",
    "\n",
    "You can make use of the following examples to construct the DAG with Python/R."
   ]
  },
  {
   "cell_type": "code",
   "execution_count": 2,
   "metadata": {},
   "outputs": [
    {
     "name": "stdout",
     "output_type": "stream",
     "text": [
      "000101000\n"
     ]
    }
   ],
   "source": [
    "# RUN THIS IF WORKING IN PYTHON\n",
    "import pandas as pd\n",
    "\n",
    "# Function to concatenate matrix rows into a single string\n",
    "def mat2vec(dag):\n",
    "    return ''.join(str(x) for x in dag.values.reshape(dag.values.shape[0]**2))\n",
    "\n",
    "# Adjacency matrix\n",
    "rvs = [\"A\", \"B\", \"C\"]\n",
    "DAG = pd.DataFrame(0, index=rvs, columns=rvs)\n",
    "\n",
    "# Example: Set parents of B to be A and C.\n",
    "DAG.loc[\"B\", [\"A\", \"C\"]] = 1\n",
    "\n",
    "# Create the vector\n",
    "print(mat2vec(DAG))"
   ]
  },
  {
   "cell_type": "code",
   "execution_count": 2,
   "metadata": {},
   "outputs": [
    {
     "name": "stdout",
     "output_type": "stream",
     "text": [
      "000101000"
     ]
    }
   ],
   "source": [
    "# RUN THIS IF WORKING IN R\n",
    "\n",
    "# Function to concatenate matrix rows into a single string\n",
    "mat2vec <- function(dag) {\n",
    "    return(paste(apply(dag, 1, paste, collapse=\"\"), collapse=\"\"))\n",
    "}\n",
    "\n",
    "# Adjacency matrix\n",
    "rvs <- c(\"A\", \"B\", \"C\")\n",
    "DAG <- data.frame(matrix(0L, ncol = 3, nrow = 3))\n",
    "colnames(DAG) <- rvs\n",
    "rownames(DAG) <- rvs\n",
    "\n",
    "# Example: Set parents of B to be A and C.\n",
    "DAG[\"B\", c(\"A\", \"C\")] <- 1\n",
    "\n",
    "# Create the vector\n",
    "cat(mat2vec(DAG))"
   ]
  },
  {
   "cell_type": "markdown",
   "metadata": {},
   "source": [
    "## Exercise 1\n",
    "***\n",
    "\n",
    "Let us consider a 4-sided dice rolling experiment as a multinomial model (i.i.d.   multi-valued Bernoulli). We roll the dice 20 times, and observe data $D$ with the following counts for the sides:"
   ]
  },
  {
   "cell_type": "code",
   "execution_count": 21,
   "metadata": {},
   "outputs": [
    {
     "name": "stdout",
     "output_type": "stream",
     "text": [
      "side\tcounts\n",
      "1\t5\n",
      "2\t3\n",
      "3\t7\n",
      "4\t5\n"
     ]
    }
   ],
   "source": [
    "!cat data/1.csv"
   ]
  },
  {
   "cell_type": "markdown",
   "metadata": {},
   "source": [
    "(a) Calculate the maximum likelihood parameters, given the above data.\n",
    "\n",
    "(b) Calculate the posterior distribution $P(\\theta_1, \\theta_2, \\theta_3, \\theta_4 | D)$ considering the prior $Dir(\\alpha_1, \\alpha_2, \\alpha_3, \\alpha_4)$, with\n",
    "- $\\alpha_1 = \\alpha_2 = \\alpha_3 = \\alpha_4 = 1$, i.e., the uniform prior and\n",
    "- $\\alpha_1 = \\alpha_2 = \\alpha_3 = \\alpha_4 = 0.5$, i.e., the Jeffrey's prior.\n",
    "\n",
    "For both, report the mean. \n",
    "\n",
    "(c) Using Bayesian inference with the uniform prior (above), calculate the predictive distribution (all 4 probabilities) of the next result given $D$.\n",
    "\n",
    "(d) Let $\\alpha_4$, the 4th hyperparameter to the Dirichlet prior be 3. Specify $\\alpha_1$, $\\alpha_2$ and $\\alpha_3$ such that the mode of the posterior distribution is at $\\theta_1 = \\theta_2 = \\theta_3 = \\theta_4$.\n"
   ]
  },
  {
   "cell_type": "code",
   "execution_count": null,
   "metadata": {},
   "outputs": [],
   "source": [
    "# Provide your answer in cells here"
   ]
  },
  {
   "cell_type": "markdown",
   "metadata": {},
   "source": [
    "## Exercise 2\n",
    "***\n",
    "\n",
    "Show by using the d-separation criterion that a node in a Bayesian network is conditionally independent of all the other nodes, given its (minimal) Markov blanket (parents, children, spouses (parents of children)). \n",
    "\n",
    "Give the answer verbally in Moodle. It will be checked manually. For your own future reference it's a good idea to paste the answer here, too. \n",
    "\n",
    "Some correct and incorrect proofs will be posted anonymously in Moodle for study, by returning you agree that your version may be published anonymously. "
   ]
  },
  {
   "cell_type": "code",
   "execution_count": null,
   "metadata": {},
   "outputs": [],
   "source": [
    "# Provide your answer in cells here"
   ]
  },
  {
   "cell_type": "markdown",
   "metadata": {},
   "source": [
    "## Exercise 3\n",
    "***\n",
    "\n",
    "Consider the following BN structure. Answer the following queries and questions, justifying your answers.\n",
    "\n",
    "![](2.3.svg)\n",
    "\n",
    "(a) Decide whether the following d-separations hold or not. \n",
    "- $G \\mathrel{⫫}_{G} D \\mid A, E$\n",
    "- $D \\mathrel{⫫}_{G} F$\n",
    "- $H \\mathrel{⫫}_{G} B \\mid G, C$\n",
    "- $G \\mathrel{⫫}_{G} H \\mid A, F$\n",
    "\n",
    "(b) Construct a Markov equivalent DAG (other than the given), and return it to Moodle in the format specified at the top of the notebook. How many equivalent DAGs are there in total (including the given one)?\n",
    "\n",
    "(c) Suppose all variables in this network are binary. How many free parameters are needed to parameterize this network?"
   ]
  },
  {
   "cell_type": "code",
   "execution_count": null,
   "metadata": {},
   "outputs": [],
   "source": [
    "# Provide your answer in cells here"
   ]
  },
  {
   "cell_type": "markdown",
   "metadata": {},
   "source": [
    "## Exercise 4\n",
    "***\n",
    "\n",
    "Consider again the DAG in Exercise 3.\n",
    "\n",
    "a) What is the factorization implied by the DAG?\n",
    "\n",
    "Return the factorization in Moodle in plain text in the exact same format as the example: `P(A,B,C)P(B,C|D)P(C|E,F)`. Here\n",
    "- a set of variables $\\{ B, A, C \\}$ is encoded as `A,B,C` (note the alphabetical order);\n",
    "- the factors themselves are in alphabetical order, so not `P(B)P(A)` but `P(A)P(B)`, not `P(A|C)P(A|B)` but `P(A|B)P(A|C)`.\n",
    "\n",
    "b) Which of the following independencies are stated by the local Markov condition asserted by the DAG?\n",
    "\n",
    "- $D \\mathrel{⫫} F$\n",
    "- $E \\mathrel{⫫} A \\mid H$\n",
    "- $B \\mathrel{⫫} H \\mid F, G$"
   ]
  },
  {
   "cell_type": "code",
   "execution_count": 12,
   "metadata": {},
   "outputs": [],
   "source": [
    "# Provide your answer in cells here"
   ]
  },
  {
   "cell_type": "markdown",
   "metadata": {},
   "source": [
    "## Exercise 5\n",
    "***\n",
    "\n",
    "Consider the following DAG: $X \\rightarrow Y \\rightarrow Z$.\n",
    "\n",
    "(a) Suppose the variables are binary and another, equivalent DAG encodes the same joint distribution with the following parameters:\n",
    "\n",
    "\\begin{aligned}\n",
    "P(Y = 1) = 0.3 \\\\\n",
    "P(X = 1 | Y = 1) = 0.2 \\\\\n",
    "P(X = 1 | Y = 0) = 0.8 \\\\\n",
    "P(Z = 1 | Y = 1) = 0.8 \\\\\n",
    "P(Z = 1 | Y = 0) = 0.2 \\\\\n",
    "\\end{aligned}\n",
    "\n",
    "Give the parameters corresponding to the first DAG.\n",
    "\n",
    "(b) What values do the variables take at the mode of the joint distribution?\n",
    "\n",
    "(c) Compute the marginal probabilities $P(X)$, $P(Y)$, $P(Z)$ and their respective most probable arguments (which value for each random variable gets the highest probability)."
   ]
  },
  {
   "cell_type": "code",
   "execution_count": null,
   "metadata": {},
   "outputs": [],
   "source": [
    "# Provide your answer in cells here"
   ]
  },
  {
   "cell_type": "markdown",
   "metadata": {},
   "source": [
    "## Exercise 6\n",
    "***\n",
    "\n",
    "Faithfulness. Consider a DAG $X \\rightarrow Y$ over binary random variables $X,Y$.\n",
    "\n",
    "(a) Give parameters for a BN over the DAG such that we have $X \\mathrel{⫫} Y$ (conditional independence) and the distribution is positive, i.e., gives a non-zero probability for all assignments of $X,Y$.\n",
    "\n",
    "(b) Give parameters for a BN over the DAG such that we have $X \\not\\mathrel{⫫} Y$ such that the distribution is positive as well.\n",
    "\n",
    "(c) Take the parameters in (a), add small random noise to the parameters and renormalize the probabilities such that you have a (valid) BN (i.e. rows of CPTs should sum up to one and all probabilities should be positive). Do you still have $X \\mathrel{⫫} Y$?\n",
    "\n",
    "(d) Does any of this contradict the soundness and completeness of d-separation? Why?\n",
    "\n",
    "For each part give a short verbal answer in Moodle, e.g., \"P(X = 1) = x, P(Y = 1 | X = 1) = y, P(Y = 1 | X = 0) = z  ...\". They will be graded manually."
   ]
  },
  {
   "cell_type": "code",
   "execution_count": null,
   "metadata": {},
   "outputs": [],
   "source": [
    "# Provide your answer in cells here"
   ]
  }
 ],
 "metadata": {
  "kernelspec": {
   "display_name": "Python 3 (ipykernel)",
   "language": "python",
   "name": "python3"
  },
  "language_info": {
   "codemirror_mode": {
    "name": "ipython",
    "version": 3
   },
   "file_extension": ".py",
   "mimetype": "text/x-python",
   "name": "python",
   "nbconvert_exporter": "python",
   "pygments_lexer": "ipython3",
   "version": "3.9.5"
  },
  "toc": {
   "base_numbering": 1,
   "nav_menu": {},
   "number_sections": true,
   "sideBar": true,
   "skip_h1_title": false,
   "title_cell": "Table of Contents",
   "title_sidebar": "Contents",
   "toc_cell": false,
   "toc_position": {},
   "toc_section_display": true,
   "toc_window_display": false
  }
 },
 "nbformat": 4,
 "nbformat_minor": 4
}
