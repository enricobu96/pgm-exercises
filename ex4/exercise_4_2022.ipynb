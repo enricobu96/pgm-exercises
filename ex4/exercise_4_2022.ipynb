{
 "cells": [
  {
   "cell_type": "markdown",
   "metadata": {},
   "source": [
    "# Probabilistic Models – Spring 2022\n",
    "## Exercise Session 4\n",
    "Feb 22nd return by 12.00. Session at 14.15.\n",
    "\n",
    "<span style=\"color:red\">**Enrico Buratto**</span>\n",
    "\n",
    "### Instructions\n",
    "Make sure the notebook produces correct results when ran sequentially starting from the first cell. You can ensure this by clearing all outputs, running all cells, and finally correcting any errors.\n",
    "\n",
    "To get points:\n",
    "1. Submit your answers to the automatically checked Moodle test. \n",
    " - You have 5 tries on the test: the highest obtained score will be taken into account.\n",
    " - For numerical questions the tolerance is $1\\cdot10^{-4}$.\n",
    "2. Submit this notebook containing your derivations to Moodle.\n",
    "\n",
    "**Exercises 4 and 5 are checked completely manually: in the corresponding Moodle questions return \"1\" if you have done the exercise. The points that you get for the exercises are then subject to change as we check the notebooks. Also your notebooks for the other problems will be checked, so that for example in 1 you used the asked algorithm, instead of computing the value through the joint distribution.**"
   ]
  },
  {
   "cell_type": "markdown",
   "metadata": {},
   "source": [
    "## Exercise 1\n",
    "***\n",
    "\n",
    "Compute $P(C,D)$ for the following BN using plain factor elimination without network pruning.\n",
    "\n",
    "![](4.1.svg)\n",
    "\n",
    "The factors for the BN are:"
   ]
  },
  {
   "cell_type": "code",
   "execution_count": 1,
   "metadata": {},
   "outputs": [
    {
     "name": "stdout",
     "output_type": "stream",
     "text": [
      "data/fA.tsv\n",
      "A\tfA\n",
      "0\t.6\n",
      "1\t.4\n",
      "\n",
      "data/fB.tsv\n",
      "B\tfB\n",
      "0\t.5\n",
      "1\t.5\n",
      "\n",
      "data/fC.tsv\n",
      "A\tB\tC\tfC\n",
      "0\t0\t0\t.9\n",
      "0\t0\t1\t.1\n",
      "0\t1\t0\t.1\n",
      "0\t1\t1\t.9\n",
      "1\t0\t0\t.5\n",
      "1\t0\t1\t.5\n",
      "1\t1\t0\t.3\n",
      "1\t1\t1\t.7\n",
      "\n",
      "data/fD.tsv\n",
      "C\tD\tfD\n",
      "0\t0\t.2\n",
      "0\t1\t.8\n",
      "1\t0\t.7\n",
      "1\t1\t.3\n",
      "\n",
      "data/fE.tsv\n",
      "C\tE\tfE\n",
      "0\t0\t.1\n",
      "0\t1\t.9\n",
      "1\t0\t.2\n",
      "1\t1\t.8\n",
      "\n"
     ]
    }
   ],
   "source": [
    "!for v in {A..E}; do echo \"data/f\"$v\".tsv\"; cat \"data/f\"$v\".tsv\"; echo \"\"; done"
   ]
  },
  {
   "cell_type": "markdown",
   "metadata": {},
   "source": [
    "Report in Moodle $P(C=0, D=0)$.\n",
    "\n",
    "You can implement the algorithm programmatically or just use it \"on paper\". "
   ]
  },
  {
   "cell_type": "code",
   "execution_count": 169,
   "metadata": {},
   "outputs": [
    {
     "name": "stdout",
     "output_type": "stream",
     "text": [
      "P(C=0, D=0) = 0.09200000000000001\n"
     ]
    },
    {
     "data": {
      "text/html": [
       "<div>\n",
       "<style scoped>\n",
       "    .dataframe tbody tr th:only-of-type {\n",
       "        vertical-align: middle;\n",
       "    }\n",
       "\n",
       "    .dataframe tbody tr th {\n",
       "        vertical-align: top;\n",
       "    }\n",
       "\n",
       "    .dataframe thead th {\n",
       "        text-align: right;\n",
       "    }\n",
       "</style>\n",
       "<table border=\"1\" class=\"dataframe\">\n",
       "  <thead>\n",
       "    <tr style=\"text-align: right;\">\n",
       "      <th></th>\n",
       "      <th>C</th>\n",
       "      <th>D</th>\n",
       "      <th>fD</th>\n",
       "    </tr>\n",
       "  </thead>\n",
       "  <tbody>\n",
       "    <tr>\n",
       "      <th>0</th>\n",
       "      <td>0</td>\n",
       "      <td>0</td>\n",
       "      <td>0.092</td>\n",
       "    </tr>\n",
       "    <tr>\n",
       "      <th>1</th>\n",
       "      <td>0</td>\n",
       "      <td>1</td>\n",
       "      <td>0.368</td>\n",
       "    </tr>\n",
       "    <tr>\n",
       "      <th>2</th>\n",
       "      <td>1</td>\n",
       "      <td>0</td>\n",
       "      <td>0.378</td>\n",
       "    </tr>\n",
       "    <tr>\n",
       "      <th>3</th>\n",
       "      <td>1</td>\n",
       "      <td>1</td>\n",
       "      <td>0.162</td>\n",
       "    </tr>\n",
       "  </tbody>\n",
       "</table>\n",
       "</div>"
      ],
      "text/plain": [
       "   C  D     fD\n",
       "0  0  0  0.092\n",
       "1  0  1  0.368\n",
       "2  1  0  0.378\n",
       "3  1  1  0.162"
      ]
     },
     "execution_count": 169,
     "metadata": {},
     "output_type": "execute_result"
    }
   ],
   "source": [
    "import pandas as pd\n",
    "import numpy as np\n",
    "\n",
    "fA = pd.read_csv('./data/fA.tsv', sep='\\t')\n",
    "fB = pd.read_csv('./data/fB.tsv', sep='\\t')\n",
    "fC = pd.read_csv('./data/fC.tsv', sep='\\t')\n",
    "fD = pd.read_csv('./data/fD.tsv', sep='\\t')\n",
    "fE = pd.read_csv('./data/fE.tsv', sep='\\t')\n",
    "\n",
    "# First iteration: fA x fC\n",
    "fC['fC'] = fC['fC']*fC.merge(fA)['fA']\n",
    "\n",
    "# Second iteration: fB x fC\n",
    "fC['fC'] = fC['fC']*fC.merge(fB)['fB']\n",
    "\n",
    "# Third iteration: fD ← fD × ∑_v fC where V={A,B}\n",
    "s = fC.groupby('C')['fC'].sum()\n",
    "s = pd.DataFrame(np.array([[0, 1],[s[0], s[1]]]).T, columns=['C', 'fC'])\n",
    "fD['fD'] = fD['fD']*fD.merge(s)['fC']\n",
    "\n",
    "# Fourth iteration: fD ← fD × ∑_v fE where V={E}\n",
    "s = fE.groupby('C')['fE'].sum()\n",
    "s = pd.DataFrame(np.array([[0, 1],[s[0], s[1]]]).T, columns=['C', 'fE'])\n",
    "fD['fD'] = fD['fD']*fD.merge(s)['fE']\n",
    "\n",
    "# End: projection, it's already done\n",
    "final = fD.copy()\n",
    "\n",
    "# Task a\n",
    "print('P(C=0, D=0) =', final[(final['C']==0) & (final['D']==0)]['fD'].values[0])"
   ]
  },
  {
   "cell_type": "markdown",
   "metadata": {},
   "source": [
    "## Exercise 2\n",
    "***\n",
    "\n",
    "Based on your previous or upcoming calculation, what is $P(C|D=1)$?"
   ]
  },
  {
   "cell_type": "code",
   "execution_count": null,
   "metadata": {},
   "outputs": [],
   "source": [
    "# Provide your answer in cells here"
   ]
  },
  {
   "cell_type": "markdown",
   "metadata": {},
   "source": [
    "## Exercise 3\n",
    "***\n",
    "\n",
    "Consider the BN of task 1. One elimination tree for this DAG is given by the following. \n",
    "\n",
    "![](4.3.png)\n",
    "\n",
    "Calculate all messages used by message passing factor elimination over the elimination tree.\n",
    "\n",
    "Either compute the messages programmatically or manually. \n"
   ]
  },
  {
   "cell_type": "code",
   "execution_count": 8,
   "metadata": {},
   "outputs": [],
   "source": [
    "# Provide your answer in cells here"
   ]
  },
  {
   "cell_type": "markdown",
   "metadata": {},
   "source": [
    "\n",
    "Concerning the message passing factor elimination run, calculate the cluster marginals. Check that all agree with $P(C)$.\n",
    "\n",
    "From the computed cluster marginals report in moodle:\n",
    "- $P(A=0)$\n",
    "- $P(C=1, D=0)$\n",
    "- $P(C=0, E=1)$\n",
    "- $P(A=1, B=0, C=1)$"
   ]
  },
  {
   "cell_type": "code",
   "execution_count": 9,
   "metadata": {},
   "outputs": [],
   "source": [
    "# Provide your answer in cells here"
   ]
  },
  {
   "cell_type": "markdown",
   "metadata": {},
   "source": [
    "## Exercise 4\n",
    "***\n",
    "\n",
    "Find a jointree for the following DAG. Mark the clusters, separators and factors. How does the tree change if you want to calculate $P(A,E)$ (i.e., if $A$ and $E$ have to appear in the same cluster)?\n",
    "\n",
    "![](4.5.1.svg)\n",
    "\n",
    "You can draw the jointree using which ever tool and then embed the image to the notebook (check this cell for an example on how to embed images). Alternatively, install the [Python interface to graphviz](https://graphviz.readthedocs.io/en/stable/manual.html) and [graphviz](https://www.graphviz.org/) itself. After successful installation, running the next cell (which you can use as an example) should output the following image:\n",
    "\n",
    "![](4.5.2.svg)"
   ]
  },
  {
   "cell_type": "code",
   "execution_count": 10,
   "metadata": {},
   "outputs": [
    {
     "data": {
      "image/svg+xml": "<?xml version=\"1.0\" encoding=\"UTF-8\" standalone=\"no\"?>\n<!DOCTYPE svg PUBLIC \"-//W3C//DTD SVG 1.1//EN\"\n \"http://www.w3.org/Graphics/SVG/1.1/DTD/svg11.dtd\">\n<!-- Generated by graphviz version 2.50.0 (20211204.2007)\n -->\n<!-- Pages: 1 -->\n<svg width=\"360pt\" height=\"165pt\"\n viewBox=\"0.00 0.00 360.00 165.03\" xmlns=\"http://www.w3.org/2000/svg\" xmlns:xlink=\"http://www.w3.org/1999/xlink\">\n<g id=\"graph0\" class=\"graph\" transform=\"scale(0.76 0.76) rotate(0) translate(4 214)\">\n<polygon fill=\"white\" stroke=\"transparent\" points=\"-4,4 -4,-214 471.54,-214 471.54,4 -4,4\"/>\n<!-- AB, f(A) -->\n<g id=\"node1\" class=\"node\">\n<title>AB, f(A)</title>\n<ellipse fill=\"none\" stroke=\"black\" cx=\"151.75\" cy=\"-192\" rx=\"42.79\" ry=\"18\"/>\n<text text-anchor=\"middle\" x=\"151.75\" y=\"-188.3\" font-family=\"Times,serif\" font-size=\"14.00\">AB, f(A)</text>\n</g>\n<!-- AB, f(AB) -->\n<g id=\"node2\" class=\"node\">\n<title>AB, f(AB)</title>\n<ellipse fill=\"none\" stroke=\"black\" cx=\"48.75\" cy=\"-105\" rx=\"48.99\" ry=\"18\"/>\n<text text-anchor=\"middle\" x=\"48.75\" y=\"-101.3\" font-family=\"Times,serif\" font-size=\"14.00\">AB, f(AB)</text>\n</g>\n<!-- AB, f(A)&#45;&#45;AB, f(AB) -->\n<g id=\"edge1\" class=\"edge\">\n<title>AB, f(A)&#45;&#45;AB, f(AB)</title>\n<path fill=\"none\" stroke=\"black\" d=\"M111.14,-185.65C91.85,-181 70.14,-172.29 56.75,-156 49.26,-146.9 47.42,-133.63 47.37,-123.04\"/>\n<text text-anchor=\"middle\" x=\"66.25\" y=\"-144.8\" font-family=\"Times,serif\" font-size=\"14.00\">AB</text>\n</g>\n<!-- ABC, f(AC) -->\n<g id=\"node3\" class=\"node\">\n<title>ABC, f(AC)</title>\n<ellipse fill=\"none\" stroke=\"black\" cx=\"295.75\" cy=\"-105\" rx=\"54.69\" ry=\"18\"/>\n<text text-anchor=\"middle\" x=\"295.75\" y=\"-101.3\" font-family=\"Times,serif\" font-size=\"14.00\">ABC, f(AC)</text>\n</g>\n<!-- AB, f(A)&#45;&#45;ABC, f(AC) -->\n<g id=\"edge2\" class=\"edge\">\n<title>AB, f(A)&#45;&#45;ABC, f(AC)</title>\n<path fill=\"none\" stroke=\"black\" d=\"M175.52,-176.96C201.57,-161.59 243.18,-137.03 269.99,-121.21\"/>\n<text text-anchor=\"middle\" x=\"241.25\" y=\"-144.8\" font-family=\"Times,serif\" font-size=\"14.00\">AB</text>\n</g>\n<!-- BCD, f(BCD) -->\n<g id=\"node4\" class=\"node\">\n<title>BCD, f(BCD)</title>\n<ellipse fill=\"none\" stroke=\"black\" cx=\"169.75\" cy=\"-18\" rx=\"60.39\" ry=\"18\"/>\n<text text-anchor=\"middle\" x=\"169.75\" y=\"-14.3\" font-family=\"Times,serif\" font-size=\"14.00\">BCD, f(BCD)</text>\n</g>\n<!-- ABC, f(AC)&#45;&#45;BCD, f(BCD) -->\n<g id=\"edge3\" class=\"edge\">\n<title>ABC, f(AC)&#45;&#45;BCD, f(BCD)</title>\n<path fill=\"none\" stroke=\"black\" d=\"M272.93,-88.61C250.38,-73.39 216.03,-50.23 193.25,-34.85\"/>\n<text text-anchor=\"middle\" x=\"249.25\" y=\"-57.8\" font-family=\"Times,serif\" font-size=\"14.00\">BC</text>\n</g>\n<!-- CE, f(CE) -->\n<g id=\"node5\" class=\"node\">\n<title>CE, f(CE)</title>\n<ellipse fill=\"none\" stroke=\"black\" cx=\"420.75\" cy=\"-18\" rx=\"46.59\" ry=\"18\"/>\n<text text-anchor=\"middle\" x=\"420.75\" y=\"-14.3\" font-family=\"Times,serif\" font-size=\"14.00\">CE, f(CE)</text>\n</g>\n<!-- ABC, f(AC)&#45;&#45;CE, f(CE) -->\n<g id=\"edge4\" class=\"edge\">\n<title>ABC, f(AC)&#45;&#45;CE, f(CE)</title>\n<path fill=\"none\" stroke=\"black\" d=\"M318.38,-88.61C341.18,-73.11 376.11,-49.35 398.7,-33.99\"/>\n<text text-anchor=\"middle\" x=\"369.75\" y=\"-57.8\" font-family=\"Times,serif\" font-size=\"14.00\">C</text>\n</g>\n</g>\n</svg>\n",
      "text/plain": [
       "<graphviz.graphs.Graph at 0x7f9b817ded60>"
      ]
     },
     "execution_count": 10,
     "metadata": {},
     "output_type": "execute_result"
    }
   ],
   "source": [
    "# Graphviz example\n",
    "\n",
    "import graphviz\n",
    "\n",
    "g = graphviz.Graph(engine='dot', \n",
    "                   graph_attr={'rankdir':'TB', \n",
    "                               'size':'5', 'nodesep':'2'})\n",
    "\n",
    "g.node(\"AB, f(A)\")\n",
    "g.node(\"AB, f(AB)\")\n",
    "g.node(\"ABC, f(AC)\")\n",
    "g.node(\"BCD, f(BCD)\")\n",
    "g.node(\"CE, f(CE)\")\n",
    "\n",
    "g.edge(\"AB, f(A)\", \"AB, f(AB)\", label=\"AB\")\n",
    "g.edge(\"AB, f(A)\", \"ABC, f(AC)\", label=\"AB\")\n",
    "g.edge(\"ABC, f(AC)\", \"BCD, f(BCD)\", label=\"BC\")\n",
    "g.edge(\"ABC, f(AC)\", \"CE, f(CE)\", label=\"C\")\n",
    "\n",
    "\n",
    "g"
   ]
  },
  {
   "cell_type": "code",
   "execution_count": null,
   "metadata": {},
   "outputs": [],
   "source": [
    "# Provide your answer in cells here"
   ]
  },
  {
   "cell_type": "markdown",
   "metadata": {},
   "source": [
    "## Exercise 5\n",
    "***\n",
    "\n",
    "Prune the following DAG with respect to query $P(B,E \\mid A=T)$.\n",
    "\n",
    "![](4.6.svg)\n",
    "\n",
    "Again, draw the pruned DAG in steps explaining each action, using which ever tool (e.g., graphviz)."
   ]
  },
  {
   "cell_type": "code",
   "execution_count": null,
   "metadata": {},
   "outputs": [],
   "source": [
    "# Provide your answer in cells here"
   ]
  },
  {
   "cell_type": "markdown",
   "metadata": {},
   "source": [
    "## Exercise 6\n",
    "***\n",
    "\n",
    "Consider the following training data set $D$:\n"
   ]
  },
  {
   "cell_type": "code",
   "execution_count": 5,
   "metadata": {},
   "outputs": [
    {
     "name": "stdout",
     "output_type": "stream",
     "text": [
      "X1\tX2\tX3\tX4\tY\r\n",
      "0\t0\t0\t1\t1\r\n",
      "0\t1\t0\t0\t2\r\n",
      "0\t1\t0\t1\t1\r\n",
      "0\t1\t1\t0\t2\r\n",
      "1\t0\t0\t0\t1\r\n",
      "1\t0\t0\t1\t1\r\n",
      "1\t0\t1\t1\t1\r\n",
      "1\t1\t0\t0\t3\r\n",
      "1\t1\t0\t1\t1\r\n",
      "1\t1\t1\t0\t2\r\n"
     ]
    }
   ],
   "source": [
    "!cat data/6.train.tsv"
   ]
  },
  {
   "cell_type": "markdown",
   "metadata": {},
   "source": [
    "Consider  the  DAG  of  a  Naive  Bayes  classifier  structure  where $Y$ is the class. Learn parameters of the Bayesian network:\n",
    "\n",
    "- (a) Using maximum likelihood estimation.\n",
    "  - Report $P(X_3=1 \\mid Y=1)$\n",
    "- (b) Using the Bayesian Estimate with the BDeu prior using equivalent sample size of 1.\n",
    "  - Report $P(X_4=1 \\mid Y=2)$\n",
    "- (c) Determine which estimate gives the higher likelihood (or log-likelihood) for the following test set."
   ]
  },
  {
   "cell_type": "code",
   "execution_count": 6,
   "metadata": {},
   "outputs": [
    {
     "name": "stdout",
     "output_type": "stream",
     "text": [
      "X1\tX2\tX3\tX4\tY\r\n",
      "0\t0\t0\t0\t1\r\n",
      "0\t0\t1\t0\t2\r\n",
      "0\t0\t1\t1\t1\r\n",
      "0\t1\t1\t1\t2\r\n",
      "1\t0\t1\t0\t3\r\n",
      "1\t1\t1\t1\t2\r\n"
     ]
    }
   ],
   "source": [
    "!cat data/6.test.tsv"
   ]
  },
  {
   "cell_type": "code",
   "execution_count": 7,
   "metadata": {},
   "outputs": [],
   "source": [
    "# Provide your answer in cells here"
   ]
  },
  {
   "cell_type": "code",
   "execution_count": null,
   "metadata": {},
   "outputs": [],
   "source": []
  }
 ],
 "metadata": {
  "kernelspec": {
   "display_name": "Python 3 (ipykernel)",
   "language": "python",
   "name": "python3"
  },
  "language_info": {
   "codemirror_mode": {
    "name": "ipython",
    "version": 3
   },
   "file_extension": ".py",
   "mimetype": "text/x-python",
   "name": "python",
   "nbconvert_exporter": "python",
   "pygments_lexer": "ipython3",
   "version": "3.10.2"
  }
 },
 "nbformat": 4,
 "nbformat_minor": 4
}
