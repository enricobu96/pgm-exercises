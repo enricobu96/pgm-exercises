{
 "cells": [
  {
   "cell_type": "markdown",
   "metadata": {},
   "source": [
    "# Probabilistic Models – Spring 2022\n",
    "## Exercise Session 1\n",
    "Return by Jan 25th 9.00 through Moodle. Session on Jan 25th 14.15.\n",
    "\n",
    "### Instructions\n",
    "Make sure the notebook produces correct results when ran sequentially starting from the first cell. You can ensure this by clearing all outputs (`Edit > Clear All Outputs`), running all cells (`Run > Run All Cells`), and finally correcting any errors.\n",
    "\n",
    "To get points:\n",
    "1. Submit your answers to the automatically checked Moodle test. \n",
    " - You have 5 tries on the test: the highest obtained score will be taken into account.\n",
    " - For numerical questions the tolerance is +/- 0.01.\n",
    "2. Submit this notebook containing your derivations to Moodle."
   ]
  },
  {
   "cell_type": "markdown",
   "metadata": {},
   "source": [
    "## Exercise 1\n",
    "***\n",
    "\n",
    "Consider the following joint distribution $P$:"
   ]
  },
  {
   "cell_type": "code",
   "execution_count": 1,
   "metadata": {},
   "outputs": [
    {
     "name": "stdout",
     "output_type": "stream",
     "text": [
      "A\tB\tC\tP\n",
      "True\tTrue\tTrue\t0.075\n",
      "True\tTrue\tFalse\t0.05\n",
      "True\tFalse\tTrue\t0.225\n",
      "True\tFalse\tFalse\t0.15\n",
      "False\tTrue\tTrue\t0.025\n",
      "False\tTrue\tFalse\t0.1\n",
      "False\tFalse\tTrue\t0.075\n",
      "False\tFalse\tFalse\t0.3\n"
     ]
    }
   ],
   "source": [
    "!cat data/1.csv"
   ]
  },
  {
   "cell_type": "markdown",
   "metadata": {},
   "source": [
    "(a) What is $P(A=T, C=T)$?\n",
    "\n",
    "Update the distribution by conditioning on the event $C=T$, that is, construct the conditional distribution $P( \\cdot |C=T$).\n",
    "\n",
    "(b) What is $P(A=T|C=T)$? $P(B=T|C= T)$?\n",
    "\n",
    "(c) Is the event $A=T$ independent of the event $C=T$? Is $B=T$ independent of $C=T$?\n",
    "\n",
    "### Instructions\n",
    "\n",
    "If you're using Python you can start by reading the provided file into a [Pandas](https://pandas.pydata.org/) [DataFrame](https://pandas.pydata.org/pandas-docs/stable/reference/api/pandas.DataFrame.html) or similarly to a [data.frame](https://www.rdocumentation.org/packages/base/versions/3.6.2/topics/data.frame) in R. To check for equality between two real numbers do not use `x == y`, as it gives false negatives on limited precision floats. Rather, use for example [`math.isclose(x, y)`](https://docs.python.org/3/library/math.html#math.isclose) in Python or [`near(x, y)`](https://dplyr.tidyverse.org/reference/near.html) in R.\n"
   ]
  },
  {
   "cell_type": "code",
   "execution_count": 3,
   "metadata": {},
   "outputs": [
    {
     "name": "stdout",
     "output_type": "stream",
     "text": [
      "P(A=T,C=T) = 0.3\n",
      "P(A=T|C=T) = 0.7499999999999999 \n",
      "P(B=T|C=T) = 0.25\n",
      "Is A=T independent of C=T? False\n",
      "Is B=T independent of C=T? True\n"
     ]
    }
   ],
   "source": [
    "import pandas as pd\n",
    "import math as math\n",
    "\n",
    "df = pd.read_csv('./data/1.csv', sep='\\t')\n",
    "\n",
    "# Task a. P(A=T,C=T) = sum of rows matching the condition\n",
    "prob_a = df.loc[df['A'] == True].loc[df['C'] == True]['P'].sum()\n",
    "print('P(A=T,C=T) =', prob_a)\n",
    "\n",
    "# Task b. P(.|C=T) = P(., C=T)/P(C=T)\n",
    "pctrue = df.loc[df['C'] == True]['P'].sum()\n",
    "prob_ba = prob_a/pctrue\n",
    "prob_bb = (df.loc[df['B'] == True].loc[df['C'] == True]['P'].sum())/pctrue\n",
    "print('P(A=T|C=T) =', prob_ba, '\\nP(B=T|C=T) =', prob_bb)\n",
    "\n",
    "# Task c. A and B are independent if P(A|B) = P(A) and P(B|A) = P(B)\n",
    "patrue = df.loc[df['A'] == True]['P'].sum()\n",
    "pbtrue = df.loc[df['B'] == True]['P'].sum()\n",
    "ind_c1 = math.isclose(prob_ba,patrue)\n",
    "ind_c2 = math.isclose(prob_bb,pbtrue)\n",
    "print('Is A=T independent of C=T?', ind_c1)\n",
    "print('Is B=T independent of C=T?', ind_c2)"
   ]
  },
  {
   "cell_type": "markdown",
   "metadata": {},
   "source": [
    "## Exercise 2\n",
    "***\n",
    "\n",
    "Consider again the joint distribution $P$ from Exercise 1.\n",
    "\n",
    "(a) What is $P(A=T \\vee B=T)$?\n",
    "\n",
    "\n",
    "Update the distribution by conditioning on the event $(A=T \\vee B=T)$, this is, construct the conditional distribution $P( \\cdot |A=T \\vee B=T)$.\n",
    "\n",
    "(b) What is $P(A=T|A=T \\vee B=T)$? $P(B=T|A=T \\vee B=T)$?\n",
    "\n",
    "(c) Is the event $B=T$ conditionally independent of $C=T$ given the event $(A=T \\vee B=T)$?"
   ]
  },
  {
   "cell_type": "code",
   "execution_count": 3,
   "metadata": {},
   "outputs": [],
   "source": [
    "# Provide your answer in cells here"
   ]
  },
  {
   "cell_type": "markdown",
   "metadata": {},
   "source": [
    "## Exercise 3\n",
    "***\n",
    "\n",
    "Consider the following joint distribution."
   ]
  },
  {
   "cell_type": "code",
   "execution_count": 4,
   "metadata": {},
   "outputs": [
    {
     "name": "stdout",
     "output_type": "stream",
     "text": [
      "A\tB\tC\tP\n",
      "True\tTrue\tTrue\t0.27\n",
      "True\tTrue\tFalse\t0.18\n",
      "True\tFalse\tTrue\t0.03\n",
      "True\tFalse\tFalse\t0.02\n",
      "False\tTrue\tTrue\t0.02\n",
      "False\tTrue\tFalse\t0.03\n",
      "False\tFalse\tTrue\t0.18\n",
      "False\tFalse\tFalse\t0.27\n"
     ]
    }
   ],
   "source": [
    "!cat data/3.csv"
   ]
  },
  {
   "cell_type": "markdown",
   "metadata": {},
   "source": [
    "For each pair of variables, state whether they are independent. State also whether they are independent given the third variable. Justify your answers."
   ]
  },
  {
   "cell_type": "code",
   "execution_count": 5,
   "metadata": {},
   "outputs": [],
   "source": [
    "# Provide your answer in cells here"
   ]
  },
  {
   "cell_type": "markdown",
   "metadata": {},
   "source": [
    "## Exercise 4\n",
    "***\n",
    "\n",
    "We have three urns labeled 1, 2 and 3. The urns contain, respectively, three white and three black balls, four white and two black balls, and one white and two black balls. An experiment consists of selecting an urn at random then drawing a ball from it.\n",
    "\n",
    "Define the joint probability distribution over $U$ and $C$, where $U$ is the chosen urn with values 1, 2 and 3; and $C$ is the color of the ball, with values black and white.\n",
    "\n",
    "(a) What is the probability of drawing a black ball?\n",
    "\n",
    "(b) What is the conditional probability that urn 2 was selected given that a black ball was drawn?\n",
    "\n",
    "(c) What is the probability of selecting urn 1 or a white ball?"
   ]
  },
  {
   "cell_type": "code",
   "execution_count": 6,
   "metadata": {},
   "outputs": [],
   "source": [
    "# Provide your answer in cells here"
   ]
  },
  {
   "cell_type": "markdown",
   "metadata": {},
   "source": [
    "## Exercise 5\n",
    "***\n",
    "\n",
    "Suppose Ed keeps track of forecasts of Finnish Meterological Institute (FIM) and believes they are correct with 80% probability and Mary belives the forecasts of Foreca are correct with 70% probability. Then suppose FIM predicts rain and Foreca does not.\n",
    "\n",
    "Consider four sets of bets:\n",
    "\n",
    "> (1) Bookie offers to sell Ed a bet for 85 euros returning Ed 100 euros if it rains. Bookie offers to sell Mary a bet for 60 euros returning Mary 100 euros if it does not rain.\n",
    "> \n",
    "> (2) Bookie offers to sell Ed a bet for 79 euros returning Ed 100 euros if it rains. Bookie offers to sell Mary a bet for 69 euros returning Mary 100 euros if it does not rain.\n",
    "> \n",
    "> (3) Bookie offers to sell Ed a bet for 73 euros returning Ed 100 euros if it rains. Bookie offers to sell Mary a bet for 73 euros returning Mary 100 euros if it does not rain.\n",
    "> \n",
    "> (4) Bookie offers to sell Ed a bet for 55 euros returning Ed 100 euros if it rains. Bookie offers to sell Mary a bet for 34 euros returning Mary 100 euros if it does not rain.\n",
    "\n",
    "(a) Which set of bets is a Dutch book?\n",
    "\n",
    "(b) How much money is the bookie guaranteed to make in the Dutch book scenario?\n",
    "\n",
    "Provide some calculations justifying your answers in the notebook.\n"
   ]
  },
  {
   "cell_type": "code",
   "execution_count": 7,
   "metadata": {},
   "outputs": [],
   "source": [
    "# Provide your answer in cells here"
   ]
  },
  {
   "cell_type": "markdown",
   "metadata": {},
   "source": [
    "## Exercise 6\n",
    "***\n",
    "\n"
   ]
  },
  {
   "cell_type": "markdown",
   "metadata": {},
   "source": [
    "The file `data/6.csv` contains 200 data points sampled from the distribution defined in exercise 3, with `True` mapped to 1 and `False` to 0.\n",
    "\n",
    "For each pair of variables, conduct the G²-test for statistical independence. Also conduct the test for each pair of variables given the third variable. That is, repeat the task specified in exercise 3, but this time based on data sampled from the distribution instead of direct access to the distribution. For each conducted test report the p-value obtained when the null hypothesis is that the independence holds.\n",
    "\n",
    "You can also try sampling data from the distribution yourself to see how the obtained p-values behave, but for the Moodle return use the given data set.\n",
    "\n",
    "### G²-test\n",
    "\n",
    "Under the null hypothesis $H_0: X \\mathrel{⫫} Y \\mid C$ we have that\n",
    "\n",
    "$$\\#_{e}(X=x \\wedge Y=y \\wedge C=c) = \\frac{\\# (X=x \\wedge C=c) \\cdot \\# (Y=y \\wedge C=c)}{\\# (C=c)}$$\n",
    "\n",
    "where $\\#$ marks the number of samples satisfying the condition after, and $\\#_{e}$ is the expected number of samples under $H_{0}$.\n",
    "\n",
    "Then examine the following quantity:\n",
    "\n",
    "$$G^{2} = 2 \\sum \\# \\log \\frac{\\#}{\\#_{e}} $$\n",
    "\n",
    "where the summation is over the different configurations of the variables (i.e., different values the variables can assume).\n",
    "\n",
    "Under $H_0$ the quantity $G^2$ is distributed as [$\\chi^2$](https://en.wikipedia.org/wiki/Chi-square_distribution) with $(m_X - 1)(m_Y - 1)m_C$ degrees of freedom, where $m_X,m_Y,m_C$ are the number of possible configurations for $X$, $Y$ and $C$, respectively.\n",
    "\n",
    "### Instructions\n",
    "\n",
    "You can use any libraries you find for the task, but it probably makes sense to implement the $G^2$ computation yourself, and then compute the p-value for example using [SciPy](https://docs.scipy.org/doc/scipy/reference/generated/scipy.stats.chi2.html) (if you're using Python) or the built-in [chisquare functions](https://docs.scipy.org/doc/scipy/reference/generated/scipy.stats.chi2.html) in R."
   ]
  },
  {
   "cell_type": "code",
   "execution_count": 8,
   "metadata": {},
   "outputs": [],
   "source": [
    "# Provide your answer in cells here"
   ]
  }
 ],
 "metadata": {
  "kernelspec": {
   "display_name": "Python 3 (ipykernel)",
   "language": "python",
   "name": "python3"
  },
  "language_info": {
   "codemirror_mode": {
    "name": "ipython",
    "version": 3
   },
   "file_extension": ".py",
   "mimetype": "text/x-python",
   "name": "python",
   "nbconvert_exporter": "python",
   "pygments_lexer": "ipython3",
   "version": "3.10.1"
  }
 },
 "nbformat": 4,
 "nbformat_minor": 4
}
