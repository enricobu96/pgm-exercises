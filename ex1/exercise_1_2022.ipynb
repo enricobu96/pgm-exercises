{
 "cells": [
  {
   "cell_type": "markdown",
   "metadata": {},
   "source": [
    "# Probabilistic Models – Spring 2022\n",
    "## Exercise Session 1\n",
    "Return by Jan 25th 9.00 through Moodle. Session on Jan 25th 14.15.\n",
    "\n",
    "### Instructions\n",
    "Make sure the notebook produces correct results when ran sequentially starting from the first cell. You can ensure this by clearing all outputs (`Edit > Clear All Outputs`), running all cells (`Run > Run All Cells`), and finally correcting any errors.\n",
    "\n",
    "To get points:\n",
    "1. Submit your answers to the automatically checked Moodle test. \n",
    " - You have 5 tries on the test: the highest obtained score will be taken into account.\n",
    " - For numerical questions the tolerance is +/- 0.01.\n",
    "2. Submit this notebook containing your derivations to Moodle."
   ]
  },
  {
   "cell_type": "markdown",
   "metadata": {},
   "source": [
    "## Exercise 1\n",
    "***\n",
    "\n",
    "Consider the following joint distribution $P$:"
   ]
  },
  {
   "cell_type": "code",
   "execution_count": 1,
   "metadata": {},
   "outputs": [
    {
     "name": "stdout",
     "output_type": "stream",
     "text": [
      "A\tB\tC\tP\n",
      "True\tTrue\tTrue\t0.075\n",
      "True\tTrue\tFalse\t0.05\n",
      "True\tFalse\tTrue\t0.225\n",
      "True\tFalse\tFalse\t0.15\n",
      "False\tTrue\tTrue\t0.025\n",
      "False\tTrue\tFalse\t0.1\n",
      "False\tFalse\tTrue\t0.075\n",
      "False\tFalse\tFalse\t0.3\n"
     ]
    }
   ],
   "source": [
    "!cat data/1.csv"
   ]
  },
  {
   "cell_type": "markdown",
   "metadata": {},
   "source": [
    "(a) What is $P(A=T, C=T)$?\n",
    "\n",
    "Update the distribution by conditioning on the event $C=T$, that is, construct the conditional distribution $P( \\cdot |C=T$).\n",
    "\n",
    "(b) What is $P(A=T|C=T)$? $P(B=T|C= T)$?\n",
    "\n",
    "(c) Is the event $A=T$ independent of the event $C=T$? Is $B=T$ independent of $C=T$?\n",
    "\n",
    "### Instructions\n",
    "\n",
    "If you're using Python you can start by reading the provided file into a [Pandas](https://pandas.pydata.org/) [DataFrame](https://pandas.pydata.org/pandas-docs/stable/reference/api/pandas.DataFrame.html) or similarly to a [data.frame](https://www.rdocumentation.org/packages/base/versions/3.6.2/topics/data.frame) in R. To check for equality between two real numbers do not use `x == y`, as it gives false negatives on limited precision floats. Rather, use for example [`math.isclose(x, y)`](https://docs.python.org/3/library/math.html#math.isclose) in Python or [`near(x, y)`](https://dplyr.tidyverse.org/reference/near.html) in R.\n"
   ]
  },
  {
   "cell_type": "code",
   "execution_count": 2,
   "metadata": {},
   "outputs": [
    {
     "name": "stdout",
     "output_type": "stream",
     "text": [
      "Task a\n",
      "P(A=T,C=T) = 0.3\n",
      "\n",
      "Task b\n",
      "P(A=T|C=T) = 0.7499999999999999 \n",
      "P(B=T|C=T) = 0.25\n",
      "\n",
      "Task c\n",
      "A=T,C=T False\n",
      "B=,C=T True\n"
     ]
    }
   ],
   "source": [
    "import pandas as pd\n",
    "import math as math\n",
    "\n",
    "df = pd.read_csv('./data/1.csv', sep='\\t')\n",
    "\n",
    "# Task a. P(A=T,C=T) = sum of rows matching the condition\n",
    "print('Task a')\n",
    "prob_a = df.loc[(df['A'] == True) & (df['C'] == True)]['P'].sum()\n",
    "print('P(A=T,C=T) =', prob_a)\n",
    "\n",
    "# Task b. P(.|C=T) = P(., C=T)/P(C=T)\n",
    "print('\\nTask b')\n",
    "pctrue = df.loc[df['C'] == True]['P'].sum()\n",
    "prob_ba = prob_a/pctrue\n",
    "prob_bb = (df.loc[(df['B'] == True) & (df['C'] == True)]['P'].sum())/pctrue\n",
    "print('P(A=T|C=T) =', prob_ba, '\\nP(B=T|C=T) =', prob_bb)\n",
    "\n",
    "# Task c. A and B are independent if P(A|B) = P(A) and P(B|A) = P(B)\n",
    "print('\\nTask c')\n",
    "patrue = df.loc[df['A'] == True]['P'].sum()\n",
    "pbtrue = df.loc[df['B'] == True]['P'].sum()\n",
    "ind_c1 = math.isclose(prob_ba,patrue)\n",
    "ind_c2 = math.isclose(prob_bb,pbtrue)\n",
    "print('A=T,C=T', ind_c1)\n",
    "print('B=,C=T', ind_c2)"
   ]
  },
  {
   "cell_type": "markdown",
   "metadata": {},
   "source": [
    "## Exercise 2\n",
    "***\n",
    "\n",
    "Consider again the joint distribution $P$ from Exercise 1.\n",
    "\n",
    "(a) What is $P(A=T \\vee B=T)$?\n",
    "\n",
    "\n",
    "Update the distribution by conditioning on the event $(A=T \\vee B=T)$, this is, construct the conditional distribution $P( \\cdot |A=T \\vee B=T)$.\n",
    "\n",
    "(b) What is $P(A=T|A=T \\vee B=T)$? $P(B=T|A=T \\vee B=T)$?\n",
    "\n",
    "(c) Is the event $B=T$ conditionally independent of $C=T$ given the event $(A=T \\vee B=T)$?"
   ]
  },
  {
   "cell_type": "code",
   "execution_count": 3,
   "metadata": {},
   "outputs": [
    {
     "name": "stdout",
     "output_type": "stream",
     "text": [
      "Task a\n",
      "P(A=T or B=T) = 0.625\n",
      "\n",
      "Task b\n",
      "P(A=T|A=T or B=T) = 0.8 \n",
      "P(B=T|A=T or B=T) = 0.4\n",
      "\n",
      "Task c\n",
      "Is B=T independent of C=T given (A=T or B=T)? False\n"
     ]
    }
   ],
   "source": [
    "# Task a. P(A=T or B=T) is the union of the probabilities of the two events\n",
    "print('Task a')\n",
    "updated = df.loc[(df['A'] == True) | (df['B'] == True)]\n",
    "prob_a = updated['P'].sum()\n",
    "print('P(A=T or B=T) =', prob_a)\n",
    "\n",
    "# Task b. Same idea as in Exercise 1, but with the different fixed event\n",
    "print('\\nTask b')\n",
    "patrue = updated.loc[df['A'] == True]['P'].sum()\n",
    "pbtrue = updated.loc[df['B'] == True]['P'].sum()\n",
    "prob_ba = patrue/prob_a\n",
    "prob_bb = pbtrue/prob_a\n",
    "print('P(A=T|A=T or B=T) =', prob_ba, '\\nP(B=T|A=T or B=T) =', prob_bb)\n",
    "\n",
    "# Task c. Same idea as in Exercise 1, but with the different fixed event\n",
    "print('\\nTask c')\n",
    "pbtrue = df.loc[df['B'] == True]['P'].sum()\n",
    "ind_c1 = math.isclose(prob_ba, pbtrue)\n",
    "print('Is B=T independent of C=T given (A=T or B=T)?', ind_c1)\n"
   ]
  },
  {
   "cell_type": "markdown",
   "metadata": {},
   "source": [
    "## Exercise 3\n",
    "***\n",
    "\n",
    "Consider the following joint distribution."
   ]
  },
  {
   "cell_type": "code",
   "execution_count": 4,
   "metadata": {},
   "outputs": [
    {
     "name": "stdout",
     "output_type": "stream",
     "text": [
      "A\tB\tC\tP\n",
      "True\tTrue\tTrue\t0.27\n",
      "True\tTrue\tFalse\t0.18\n",
      "True\tFalse\tTrue\t0.03\n",
      "True\tFalse\tFalse\t0.02\n",
      "False\tTrue\tTrue\t0.02\n",
      "False\tTrue\tFalse\t0.03\n",
      "False\tFalse\tTrue\t0.18\n",
      "False\tFalse\tFalse\t0.27\n"
     ]
    }
   ],
   "source": [
    "!cat data/3.csv"
   ]
  },
  {
   "cell_type": "markdown",
   "metadata": {},
   "source": [
    "For each pair of variables, state whether they are independent. State also whether they are independent given the third variable. Justify your answers."
   ]
  },
  {
   "cell_type": "code",
   "execution_count": 5,
   "metadata": {},
   "outputs": [
    {
     "name": "stdout",
     "output_type": "stream",
     "text": [
      "A B False\n",
      "A C False\n",
      "B C False\n",
      "A,B,C False\n",
      "A,C,B False\n",
      "B,C,A True\n"
     ]
    }
   ],
   "source": [
    "import pandas as pd\n",
    "import math as math\n",
    "import warnings\n",
    "warnings.filterwarnings('ignore')\n",
    "\n",
    "df = pd.read_csv('./data/3.csv', sep='\\t')\n",
    "\n",
    "# X and Y are independent if P(X=x, Y=y) = P(X=x)P(Y=y) for all x,y\n",
    "def areIndependent(x, y, df):\n",
    "    check = False\n",
    "    for i in [True, False]:\n",
    "        for j in [True, False]:\n",
    "            px = df.loc[df[x] == i]['P'].sum()\n",
    "            py = df.loc[df[y] == i]['P'].sum()\n",
    "            pcond = df.loc[(df[x] == i) & (df[y] == j)]['P'].sum()\n",
    "            if math.isclose(pcond,px*py):\n",
    "                check = True\n",
    "    return check\n",
    "\n",
    "# A and B\n",
    "print('A','B',areIndependent('A', 'B', df))\n",
    "print('A','C',areIndependent('A', 'C', df))\n",
    "print('B','C',areIndependent('B', 'C', df))\n",
    "\n",
    "# X and Y are independent given Z if P(X=x, Y=y | Z=z) = P(X=x | Z=z)P(Y=y | Z=z) for all x,y,z\n",
    "\n",
    "# A and B, fixed C\n",
    "updated = df.loc[df['C'] == False]\n",
    "prob = updated['P'].sum()\n",
    "updated['P'] = updated['P'].apply(lambda x: x/prob)\n",
    "print('A,B,C', areIndependent('A', 'B', updated))\n",
    "\n",
    "# A and C, fixed B\n",
    "updated = df.loc[df['B'] == False]\n",
    "prob = updated['P'].sum()\n",
    "updated['P'] = updated['P'].apply(lambda x: x/prob)\n",
    "print('A,C,B', areIndependent('A', 'C', updated))\n",
    "\n",
    "# B and C, fixed A\n",
    "updated = df.loc[df['A'] == False]\n",
    "prob = updated['P'].sum()\n",
    "updated['P'] = updated['P'].apply(lambda x: x/prob)\n",
    "print('B,C,A', areIndependent('B', 'C', updated))"
   ]
  },
  {
   "cell_type": "markdown",
   "metadata": {},
   "source": [
    "## Exercise 4\n",
    "***\n",
    "\n",
    "We have three urns labeled 1, 2 and 3. The urns contain, respectively, three white and three black balls, four white and two black balls, and one white and two black balls. An experiment consists of selecting an urn at random then drawing a ball from it.\n",
    "\n",
    "Define the joint probability distribution over $U$ and $C$, where $U$ is the chosen urn with values 1, 2 and 3; and $C$ is the color of the ball, with values black and white.\n",
    "\n",
    "(a) What is the probability of drawing a black ball?\n",
    "\n",
    "(b) What is the conditional probability that urn 2 was selected given that a black ball was drawn?\n",
    "\n",
    "(c) What is the probability of selecting urn 1 or a white ball?"
   ]
  },
  {
   "cell_type": "code",
   "execution_count": 6,
   "metadata": {},
   "outputs": [
    {
     "name": "stdout",
     "output_type": "stream",
     "text": [
      "Task a: 0.5\n",
      "Task b: 0.2222222222222222\n",
      "Task c: 0.6666666666666666\n"
     ]
    }
   ],
   "source": [
    "# Task a. P(select a specific urn) = 1/3\n",
    "prob_a = 1/3*(1/2+1/3+2/3)\n",
    "print('Task a:', prob_a)\n",
    "\n",
    "# Task b. P(U=2|B=black) = P(U=2,B=black)/P(B=black) for conditional probability properties\n",
    "prob_b = (1/3*1/3)/prob_a\n",
    "print('Task b:', prob_b)\n",
    "\n",
    "# Task c. P(U=1 or B=white) is the union of the two events, so P(U=1) + P(B=white) - P(U=1,B=white)\n",
    "prob_c = 1/3+1/3*(1/2+2/3+1/3)-1/3*1/2\n",
    "print('Task c:', prob_c)"
   ]
  },
  {
   "cell_type": "markdown",
   "metadata": {},
   "source": [
    "## Exercise 5\n",
    "***\n",
    "\n",
    "Suppose Ed keeps track of forecasts of Finnish Meterological Institute (FIM) and believes they are correct with 80% probability and Mary belives the forecasts of Foreca are correct with 70% probability. Then suppose FIM predicts rain and Foreca does not.\n",
    "\n",
    "Consider four sets of bets:\n",
    "\n",
    "> (1) Bookie offers to sell Ed a bet for 85 euros returning Ed 100 euros if it rains. Bookie offers to sell Mary a bet for 60 euros returning Mary 100 euros if it does not rain.\n",
    "> \n",
    "> (2) Bookie offers to sell Ed a bet for 79 euros returning Ed 100 euros if it rains. Bookie offers to sell Mary a bet for 69 euros returning Mary 100 euros if it does not rain.\n",
    "> \n",
    "> (3) Bookie offers to sell Ed a bet for 73 euros returning Ed 100 euros if it rains. Bookie offers to sell Mary a bet for 73 euros returning Mary 100 euros if it does not rain.\n",
    "> \n",
    "> (4) Bookie offers to sell Ed a bet for 55 euros returning Ed 100 euros if it rains. Bookie offers to sell Mary a bet for 34 euros returning Mary 100 euros if it does not rain.\n",
    "\n",
    "(a) Which set of bets is a Dutch book?\n",
    "\n",
    "(b) How much money is the bookie guaranteed to make in the Dutch book scenario?\n",
    "\n",
    "Provide some calculations justifying your answers in the notebook.\n"
   ]
  },
  {
   "cell_type": "markdown",
   "metadata": {},
   "source": [
    "### Answer, (in short: Set 2)\n",
    "\n",
    "#### Set 1\n",
    "\n",
    "This is not a set of Dutch books: in fact, it would be it only if we consider Mary, since she's betting 60 euros on a 70% probability. Ed, however, is offered to bet 85 euros, and then this is not a Dutch book.\n",
    "\n",
    "#### Set 2\n",
    "\n",
    "This is a set of Dutch books, since both in both the cases the bookie offers to sell a bet for less than the believed probability. In both the cases (rain or not rain), in fact, the bookie is earning some money ($79+69-100=48$).\n",
    "\n",
    "#### Set 3\n",
    "\n",
    "This is not a set of Dutch books for the same reason of Set 1 (with Mary instead of Ed).\n",
    "\n",
    "#### Set 4\n",
    "\n",
    "This is not a set of Dutch books; the bookie, in fact, is actually losing money, since $55+34$ is less than $100$ (that is the amount he/she have to pay to the winner)."
   ]
  },
  {
   "cell_type": "markdown",
   "metadata": {},
   "source": [
    "## Exercise 6\n",
    "***\n",
    "\n"
   ]
  },
  {
   "cell_type": "markdown",
   "metadata": {},
   "source": [
    "The file `data/6.csv` contains 200 data points sampled from the distribution defined in exercise 3, with `True` mapped to 1 and `False` to 0.\n",
    "\n",
    "For each pair of variables, conduct the G²-test for statistical independence. Also conduct the test for each pair of variables given the third variable. That is, repeat the task specified in exercise 3, but this time based on data sampled from the distribution instead of direct access to the distribution. For each conducted test report the p-value obtained when the null hypothesis is that the independence holds.\n",
    "\n",
    "You can also try sampling data from the distribution yourself to see how the obtained p-values behave, but for the Moodle return use the given data set.\n",
    "\n",
    "### G²-test\n",
    "\n",
    "Under the null hypothesis $H_0: X \\mathrel{⫫} Y \\mid C$ we have that\n",
    "\n",
    "$$\\#_{e}(X=x \\wedge Y=y \\wedge C=c) = \\frac{\\# (X=x \\wedge C=c) \\cdot \\# (Y=y \\wedge C=c)}{\\# (C=c)}$$\n",
    "\n",
    "where $\\#$ marks the number of samples satisfying the condition after, and $\\#_{e}$ is the expected number of samples under $H_{0}$.\n",
    "\n",
    "Then examine the following quantity:\n",
    "\n",
    "$$G^{2} = 2 \\sum \\# \\log \\frac{\\#}{\\#_{e}} $$\n",
    "\n",
    "where the summation is over the different configurations of the variables (i.e., different values the variables can assume).\n",
    "\n",
    "Under $H_0$ the quantity $G^2$ is distributed as [$\\chi^2$](https://en.wikipedia.org/wiki/Chi-square_distribution) with $(m_X - 1)(m_Y - 1)m_C$ degrees of freedom, where $m_X,m_Y,m_C$ are the number of possible configurations for $X$, $Y$ and $C$, respectively.\n",
    "\n",
    "### Instructions\n",
    "\n",
    "You can use any libraries you find for the task, but it probably makes sense to implement the $G^2$ computation yourself, and then compute the p-value for example using [SciPy](https://docs.scipy.org/doc/scipy/reference/generated/scipy.stats.chi2.html) (if you're using Python) or the built-in [chisquare functions](https://docs.scipy.org/doc/scipy/reference/generated/scipy.stats.chi2.html) in R."
   ]
  },
  {
   "cell_type": "code",
   "execution_count": 7,
   "metadata": {},
   "outputs": [
    {
     "name": "stdout",
     "output_type": "stream",
     "text": [
      "A,B 0.0\n",
      "A,C 2.487762227554313e-06\n",
      "B,C 0.0010939032025529816\n",
      "A,B,C 0.0\n",
      "A,C,B 0.002097928936509952\n",
      "B,C,A 0.6639242354843888\n"
     ]
    }
   ],
   "source": [
    "import pandas as pd\n",
    "from scipy import stats as st\n",
    "import numpy as np\n",
    "\n",
    "df = pd.read_csv('./data/6.csv')\n",
    "\n",
    "def calculate_chi(x, y, z=None):\n",
    "    sum = 0\n",
    "    if not z: # if two variables\n",
    "        for i in [0,1]:\n",
    "            for j in [0,1]:\n",
    "                sat = df.loc[(df[x]==i) & (df[y]==j)].shape[0]\n",
    "                h0 = df.loc[(df[x]==i)].shape[0]*df.loc[(df[y]==j)].shape[0]/df.shape[0]\n",
    "                sum += 2*sat*np.log(sat/h0)\n",
    "                chi = st.chi2.cdf(sum, 1)\n",
    "    else: # if three variables (conditioned probability)\n",
    "        for i in [0,1]:\n",
    "            for j in [0,1]:\n",
    "                for k in [0,1]:\n",
    "                    sat = df.loc[(df[x]==i) & (df[y]==j) & (df[z]==k)].shape[0]\n",
    "                    h0 = df.loc[(df[x]==i) & (df[z]==k)].shape[0]*df.loc[(df[y]==j) & (df[z]==k)].shape[0]/df.loc[(df[z]==k)].shape[0]\n",
    "                    sum += 2*sat*np.log(sat/h0)\n",
    "                    chi = st.chi2.cdf(sum, 2)\n",
    "    return 1-chi\n",
    "\n",
    "print('A,B', calculate_chi('A','B'))\n",
    "print('A,C', calculate_chi('A','C'))\n",
    "print('B,C', calculate_chi('B','C'))\n",
    "print('A,B,C', calculate_chi('A','B','C'))\n",
    "print('A,C,B', calculate_chi('A','C','B'))\n",
    "print('B,C,A', calculate_chi('B','C','A'))"
   ]
  }
 ],
 "metadata": {
  "kernelspec": {
   "display_name": "Python 3 (ipykernel)",
   "language": "python",
   "name": "python3"
  },
  "language_info": {
   "codemirror_mode": {
    "name": "ipython",
    "version": 3
   },
   "file_extension": ".py",
   "mimetype": "text/x-python",
   "name": "python",
   "nbconvert_exporter": "python",
   "pygments_lexer": "ipython3",
   "version": "3.10.1"
  }
 },
 "nbformat": 4,
 "nbformat_minor": 4
}
